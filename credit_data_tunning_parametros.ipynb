{
 "cells": [
  {
   "cell_type": "code",
   "execution_count": 1,
   "metadata": {},
   "outputs": [],
   "source": [
    "from sklearn.model_selection import GridSearchCV\n",
    "from sklearn.tree import DecisionTreeClassifier\n",
    "from sklearn.ensemble import RandomForestClassifier\n",
    "from sklearn.neighbors import KNeighborsClassifier\n",
    "from sklearn.linear_model import LogisticRegression\n",
    "from sklearn.svm import SVC\n",
    "from sklearn.neural_network import MLPClassifier"
   ]
  },
  {
   "cell_type": "code",
   "execution_count": 2,
   "metadata": {},
   "outputs": [],
   "source": [
    "import pickle\n",
    "\n",
    "with open('credit.pkl', 'rb') as f:\n",
    "    X_credit_treinamento, y_credit_treinamento, X_credit_teste, y_credit_teste = pickle.load(f)"
   ]
  },
  {
   "attachments": {},
   "cell_type": "markdown",
   "metadata": {},
   "source": [
    "Árvore de decisão"
   ]
  },
  {
   "cell_type": "code",
   "execution_count": 3,
   "metadata": {},
   "outputs": [],
   "source": [
    "# Concatenando a base de dados, pois a validação cruzada usa a base inteira\n",
    "import numpy as np\n",
    "\n",
    "X_credit = np.concatenate((X_credit_treinamento, X_credit_teste), axis=0)\n",
    "y_credit = np.concatenate((y_credit_treinamento, y_credit_teste), axis=0)\n"
   ]
  },
  {
   "cell_type": "code",
   "execution_count": 10,
   "metadata": {},
   "outputs": [],
   "source": [
    "#Definindo dicionário com os parametros da árvore de decisão a serem testados\n",
    "\n",
    "parametrosDecisionTree = {'criterion': ['gini', 'entropy'],\n",
    "            'splitter': ['best', 'random'],\n",
    "            'min_samples_split': [2, 5, 10],\n",
    "            'min_samples_leaf': [1, 5, 10]}"
   ]
  },
  {
   "cell_type": "code",
   "execution_count": 12,
   "metadata": {},
   "outputs": [
    {
     "name": "stdout",
     "output_type": "stream",
     "text": [
      "{'criterion': 'gini', 'min_samples_leaf': 1, 'min_samples_split': 2, 'splitter': 'best'}\n",
      "0.9825000000000002\n"
     ]
    }
   ],
   "source": [
    "#Instanciando o algoritmo Grid Search que fara os testes com os parametros e retornara os melhores encontrados\n",
    "\n",
    "gridSearch = GridSearchCV(estimator=DecisionTreeClassifier(), param_grid=parametrosDecisionTree)\n",
    "\n",
    "gridSearch.fit(X_credit, y_credit)\n",
    "\n",
    "melhoresParametros = gridSearch.best_params_\n",
    "melhorResultado = gridSearch.best_score_\n",
    "\n",
    "print(melhoresParametros)\n",
    "print(melhorResultado)"
   ]
  },
  {
   "attachments": {},
   "cell_type": "markdown",
   "metadata": {},
   "source": [
    "Randon Forest"
   ]
  },
  {
   "cell_type": "code",
   "execution_count": 13,
   "metadata": {},
   "outputs": [],
   "source": [
    "#Definindo dicionário com os parametros da floresta de árvore a serem testados\n",
    "\n",
    "parametrosRandonForest = {'criterion': ['gini', 'entropy'],\n",
    "            'n_estimators': [10, 40, 100, 150],\n",
    "            'min_samples_split': [2, 5, 10],\n",
    "            'min_samples_leaf': [1, 5, 10]}"
   ]
  },
  {
   "cell_type": "code",
   "execution_count": 14,
   "metadata": {},
   "outputs": [
    {
     "name": "stdout",
     "output_type": "stream",
     "text": [
      "{'criterion': 'gini', 'min_samples_leaf': 1, 'min_samples_split': 2, 'n_estimators': 40}\n",
      "0.9855\n"
     ]
    }
   ],
   "source": [
    "#Instanciando o algoritmo Grid Search que fara os testes com os parametros e retornara os melhores encontrados\n",
    "\n",
    "gridSearch = GridSearchCV(estimator=RandomForestClassifier(), param_grid=parametrosRandonForest)\n",
    "\n",
    "gridSearch.fit(X_credit, y_credit)\n",
    "\n",
    "melhoresParametros = gridSearch.best_params_\n",
    "melhorResultado = gridSearch.best_score_\n",
    "\n",
    "print(melhoresParametros)\n",
    "print(melhorResultado)"
   ]
  },
  {
   "attachments": {},
   "cell_type": "markdown",
   "metadata": {},
   "source": [
    "KNN"
   ]
  },
  {
   "cell_type": "code",
   "execution_count": 15,
   "metadata": {},
   "outputs": [],
   "source": [
    "#Definindo dicionário com os parametros do KNN a serem testados\n",
    "\n",
    "parametrosKnn = {'n_neighbors': [3, 5, 10, 20], 'p': [1, 2],}"
   ]
  },
  {
   "cell_type": "code",
   "execution_count": 16,
   "metadata": {},
   "outputs": [
    {
     "name": "stdout",
     "output_type": "stream",
     "text": [
      "{'n_neighbors': 5, 'p': 1}\n",
      "0.9800000000000001\n"
     ]
    }
   ],
   "source": [
    "#Instanciando o algoritmo Grid Search que fara os testes com os parametros e retornara os melhores encontrados\n",
    "\n",
    "gridSearch = GridSearchCV(estimator=KNeighborsClassifier(), param_grid=parametrosKnn)\n",
    "\n",
    "gridSearch.fit(X_credit, y_credit)\n",
    "\n",
    "melhoresParametros = gridSearch.best_params_\n",
    "melhorResultado = gridSearch.best_score_\n",
    "\n",
    "print(melhoresParametros)\n",
    "print(melhorResultado)"
   ]
  },
  {
   "attachments": {},
   "cell_type": "markdown",
   "metadata": {},
   "source": [
    "Regressão Logística"
   ]
  },
  {
   "cell_type": "code",
   "execution_count": 17,
   "metadata": {},
   "outputs": [],
   "source": [
    "#Definindo dicionário com os parametros da regressão logística a serem testados\n",
    "\n",
    "parametrosLogisticRegression = {'tol': [0.0001, 0.00001, 0.000001], 'C': [1.0, 1.5, 2.0], 'solver': ['lbfgs', 'sag', 'saga']}"
   ]
  },
  {
   "cell_type": "code",
   "execution_count": 18,
   "metadata": {},
   "outputs": [
    {
     "name": "stdout",
     "output_type": "stream",
     "text": [
      "{'C': 2.0, 'solver': 'lbfgs', 'tol': 0.0001}\n",
      "0.9469999999999998\n"
     ]
    }
   ],
   "source": [
    "#Instanciando o algoritmo Grid Search que fara os testes com os parametros e retornara os melhores encontrados\n",
    "\n",
    "gridSearch = GridSearchCV(estimator=LogisticRegression(), param_grid=parametrosLogisticRegression)\n",
    "\n",
    "gridSearch.fit(X_credit, y_credit)\n",
    "\n",
    "melhoresParametros = gridSearch.best_params_\n",
    "melhorResultado = gridSearch.best_score_\n",
    "\n",
    "print(melhoresParametros)\n",
    "print(melhorResultado)"
   ]
  },
  {
   "attachments": {},
   "cell_type": "markdown",
   "metadata": {},
   "source": [
    "SVM"
   ]
  },
  {
   "cell_type": "code",
   "execution_count": 19,
   "metadata": {},
   "outputs": [],
   "source": [
    "#Definindo dicionário com os parametros do SVM a serem testados\n",
    "\n",
    "parametrosSvm = {'tol': [0.001, 0.0001, 0.00001], 'C': [1.0, 1.5, 2.0], 'kernel': ['rbf', 'linear', 'poly', 'sigmoid']}"
   ]
  },
  {
   "cell_type": "code",
   "execution_count": 20,
   "metadata": {},
   "outputs": [
    {
     "name": "stdout",
     "output_type": "stream",
     "text": [
      "{'C': 2.0, 'kernel': 'rbf', 'tol': 0.001}\n",
      "0.984\n"
     ]
    }
   ],
   "source": [
    "#Instanciando o algoritmo Grid Search que fara os testes com os parametros e retornara os melhores encontrados\n",
    "\n",
    "gridSearch = GridSearchCV(estimator=SVC(), param_grid=parametrosSvm)\n",
    "\n",
    "gridSearch.fit(X_credit, y_credit)\n",
    "\n",
    "melhoresParametros = gridSearch.best_params_\n",
    "melhorResultado = gridSearch.best_score_\n",
    "\n",
    "print(melhoresParametros)\n",
    "print(melhorResultado)"
   ]
  },
  {
   "attachments": {},
   "cell_type": "markdown",
   "metadata": {},
   "source": [
    "Redes Neurais"
   ]
  },
  {
   "cell_type": "code",
   "execution_count": 25,
   "metadata": {},
   "outputs": [],
   "source": [
    "#Definindo dicionário com os parametros da rede neural a serem testados\n",
    "\n",
    "parametrosNeuralNetWork = {'activation': ['relu', 'logistic', 'tahn'], 'solver': ['adam', 'sgd'], 'batch_size': [10, 56]}"
   ]
  },
  {
   "cell_type": "code",
   "execution_count": null,
   "metadata": {},
   "outputs": [],
   "source": [
    "#Instanciando o algoritmo Grid Search que fara os testes com os parametros e retornara os melhores encontrados\n",
    "\n",
    "gridSearch = GridSearchCV(estimator=MLPClassifier(), param_grid=parametrosNeuralNetWork)\n",
    "\n",
    "gridSearch.fit(X_credit, y_credit)\n",
    "\n",
    "melhoresParametros = gridSearch.best_params_\n",
    "melhorResultado = gridSearch.best_score_\n"
   ]
  },
  {
   "cell_type": "code",
   "execution_count": 27,
   "metadata": {},
   "outputs": [
    {
     "name": "stdout",
     "output_type": "stream",
     "text": [
      "{'activation': 'relu', 'batch_size': 56, 'solver': 'adam'}\n",
      "0.9960000000000001\n"
     ]
    }
   ],
   "source": [
    "print(melhoresParametros)\n",
    "print(melhorResultado)"
   ]
  },
  {
   "attachments": {},
   "cell_type": "markdown",
   "metadata": {},
   "source": [
    "IMPLEMENTAÇÃO DA VALIDAÇÃO CRUZADA"
   ]
  },
  {
   "cell_type": "code",
   "execution_count": 28,
   "metadata": {},
   "outputs": [],
   "source": [
    "from sklearn.model_selection import cross_val_score, KFold"
   ]
  },
  {
   "cell_type": "code",
   "execution_count": 29,
   "metadata": {},
   "outputs": [],
   "source": [
    "resultadosTree = []\n",
    "resultadosRandonForest = []\n",
    "resultadosKnn = []\n",
    "resultadosLogisticRegression = []\n",
    "resultadosSvm = []\n",
    "#resultadosNeuralNetWork = []\n",
    "\n",
    "for i in range(30):\n",
    "    kfold = KFold(n_splits=10, shuffle=True, random_state=i)\n",
    "\n",
    "    tree = DecisionTreeClassifier(criterion='entropy', min_samples_leaf=1, min_samples_split=5, splitter='best')\n",
    "    scoresTree = cross_val_score(tree, X_credit, y_credit, cv=kfold)\n",
    "    resultadosTree.append(scoresTree.mean())\n",
    "\n",
    "    randonForest = RandomForestClassifier(criterion='entropy', min_samples_leaf=1, min_samples_split=5, n_estimators=40)\n",
    "    scoresRandonForest = cross_val_score(randonForest, X_credit, y_credit, cv=kfold)\n",
    "    resultadosRandonForest.append(scoresRandonForest.mean())\n",
    "\n",
    "    knn = KNeighborsClassifier()\n",
    "    scoresKnn = cross_val_score(knn, X_credit, y_credit, cv=kfold)\n",
    "    resultadosKnn.append(scoresKnn.mean())\n",
    "\n",
    "    logisticRegression = LogisticRegression(C=1.0, solver='lbfgs', tol=0.0001)\n",
    "    scoresLogisticRegression = cross_val_score(logisticRegression, X_credit, y_credit, cv=kfold)\n",
    "    resultadosLogisticRegression.append(scoresLogisticRegression.mean())\n",
    "\n",
    "    svm = SVC(kernel='rbf', C=2.0)\n",
    "    scoresSvm = cross_val_score(svm, X_credit, y_credit, cv=kfold)\n",
    "    resultadosSvm.append(scoresSvm.mean())"
   ]
  },
  {
   "cell_type": "code",
   "execution_count": 32,
   "metadata": {},
   "outputs": [
    {
     "data": {
      "text/html": [
       "<div>\n",
       "<style scoped>\n",
       "    .dataframe tbody tr th:only-of-type {\n",
       "        vertical-align: middle;\n",
       "    }\n",
       "\n",
       "    .dataframe tbody tr th {\n",
       "        vertical-align: top;\n",
       "    }\n",
       "\n",
       "    .dataframe thead th {\n",
       "        text-align: right;\n",
       "    }\n",
       "</style>\n",
       "<table border=\"1\" class=\"dataframe\">\n",
       "  <thead>\n",
       "    <tr style=\"text-align: right;\">\n",
       "      <th></th>\n",
       "      <th>Tree</th>\n",
       "      <th>Random_Forest</th>\n",
       "      <th>Knn</th>\n",
       "      <th>Logistic_Regression</th>\n",
       "      <th>SVM</th>\n",
       "    </tr>\n",
       "  </thead>\n",
       "  <tbody>\n",
       "    <tr>\n",
       "      <th>0</th>\n",
       "      <td>0.9880</td>\n",
       "      <td>0.9865</td>\n",
       "      <td>0.9825</td>\n",
       "      <td>0.9470</td>\n",
       "      <td>0.9845</td>\n",
       "    </tr>\n",
       "    <tr>\n",
       "      <th>1</th>\n",
       "      <td>0.9880</td>\n",
       "      <td>0.9860</td>\n",
       "      <td>0.9805</td>\n",
       "      <td>0.9470</td>\n",
       "      <td>0.9850</td>\n",
       "    </tr>\n",
       "    <tr>\n",
       "      <th>2</th>\n",
       "      <td>0.9870</td>\n",
       "      <td>0.9865</td>\n",
       "      <td>0.9795</td>\n",
       "      <td>0.9470</td>\n",
       "      <td>0.9850</td>\n",
       "    </tr>\n",
       "    <tr>\n",
       "      <th>3</th>\n",
       "      <td>0.9870</td>\n",
       "      <td>0.9850</td>\n",
       "      <td>0.9800</td>\n",
       "      <td>0.9465</td>\n",
       "      <td>0.9845</td>\n",
       "    </tr>\n",
       "    <tr>\n",
       "      <th>4</th>\n",
       "      <td>0.9895</td>\n",
       "      <td>0.9885</td>\n",
       "      <td>0.9790</td>\n",
       "      <td>0.9465</td>\n",
       "      <td>0.9840</td>\n",
       "    </tr>\n",
       "    <tr>\n",
       "      <th>5</th>\n",
       "      <td>0.9870</td>\n",
       "      <td>0.9855</td>\n",
       "      <td>0.9810</td>\n",
       "      <td>0.9465</td>\n",
       "      <td>0.9835</td>\n",
       "    </tr>\n",
       "    <tr>\n",
       "      <th>6</th>\n",
       "      <td>0.9890</td>\n",
       "      <td>0.9910</td>\n",
       "      <td>0.9800</td>\n",
       "      <td>0.9465</td>\n",
       "      <td>0.9870</td>\n",
       "    </tr>\n",
       "    <tr>\n",
       "      <th>7</th>\n",
       "      <td>0.9875</td>\n",
       "      <td>0.9895</td>\n",
       "      <td>0.9815</td>\n",
       "      <td>0.9465</td>\n",
       "      <td>0.9860</td>\n",
       "    </tr>\n",
       "    <tr>\n",
       "      <th>8</th>\n",
       "      <td>0.9870</td>\n",
       "      <td>0.9865</td>\n",
       "      <td>0.9815</td>\n",
       "      <td>0.9465</td>\n",
       "      <td>0.9850</td>\n",
       "    </tr>\n",
       "    <tr>\n",
       "      <th>9</th>\n",
       "      <td>0.9885</td>\n",
       "      <td>0.9870</td>\n",
       "      <td>0.9820</td>\n",
       "      <td>0.9485</td>\n",
       "      <td>0.9865</td>\n",
       "    </tr>\n",
       "    <tr>\n",
       "      <th>10</th>\n",
       "      <td>0.9875</td>\n",
       "      <td>0.9885</td>\n",
       "      <td>0.9805</td>\n",
       "      <td>0.9485</td>\n",
       "      <td>0.9840</td>\n",
       "    </tr>\n",
       "    <tr>\n",
       "      <th>11</th>\n",
       "      <td>0.9895</td>\n",
       "      <td>0.9855</td>\n",
       "      <td>0.9815</td>\n",
       "      <td>0.9470</td>\n",
       "      <td>0.9855</td>\n",
       "    </tr>\n",
       "    <tr>\n",
       "      <th>12</th>\n",
       "      <td>0.9865</td>\n",
       "      <td>0.9865</td>\n",
       "      <td>0.9800</td>\n",
       "      <td>0.9470</td>\n",
       "      <td>0.9845</td>\n",
       "    </tr>\n",
       "    <tr>\n",
       "      <th>13</th>\n",
       "      <td>0.9900</td>\n",
       "      <td>0.9840</td>\n",
       "      <td>0.9820</td>\n",
       "      <td>0.9470</td>\n",
       "      <td>0.9865</td>\n",
       "    </tr>\n",
       "    <tr>\n",
       "      <th>14</th>\n",
       "      <td>0.9910</td>\n",
       "      <td>0.9870</td>\n",
       "      <td>0.9805</td>\n",
       "      <td>0.9470</td>\n",
       "      <td>0.9850</td>\n",
       "    </tr>\n",
       "    <tr>\n",
       "      <th>15</th>\n",
       "      <td>0.9900</td>\n",
       "      <td>0.9835</td>\n",
       "      <td>0.9805</td>\n",
       "      <td>0.9470</td>\n",
       "      <td>0.9840</td>\n",
       "    </tr>\n",
       "    <tr>\n",
       "      <th>16</th>\n",
       "      <td>0.9875</td>\n",
       "      <td>0.9865</td>\n",
       "      <td>0.9790</td>\n",
       "      <td>0.9470</td>\n",
       "      <td>0.9850</td>\n",
       "    </tr>\n",
       "    <tr>\n",
       "      <th>17</th>\n",
       "      <td>0.9840</td>\n",
       "      <td>0.9875</td>\n",
       "      <td>0.9790</td>\n",
       "      <td>0.9460</td>\n",
       "      <td>0.9835</td>\n",
       "    </tr>\n",
       "    <tr>\n",
       "      <th>18</th>\n",
       "      <td>0.9880</td>\n",
       "      <td>0.9855</td>\n",
       "      <td>0.9785</td>\n",
       "      <td>0.9470</td>\n",
       "      <td>0.9855</td>\n",
       "    </tr>\n",
       "    <tr>\n",
       "      <th>19</th>\n",
       "      <td>0.9875</td>\n",
       "      <td>0.9860</td>\n",
       "      <td>0.9810</td>\n",
       "      <td>0.9475</td>\n",
       "      <td>0.9855</td>\n",
       "    </tr>\n",
       "    <tr>\n",
       "      <th>20</th>\n",
       "      <td>0.9885</td>\n",
       "      <td>0.9865</td>\n",
       "      <td>0.9770</td>\n",
       "      <td>0.9465</td>\n",
       "      <td>0.9845</td>\n",
       "    </tr>\n",
       "    <tr>\n",
       "      <th>21</th>\n",
       "      <td>0.9885</td>\n",
       "      <td>0.9870</td>\n",
       "      <td>0.9805</td>\n",
       "      <td>0.9465</td>\n",
       "      <td>0.9845</td>\n",
       "    </tr>\n",
       "    <tr>\n",
       "      <th>22</th>\n",
       "      <td>0.9870</td>\n",
       "      <td>0.9870</td>\n",
       "      <td>0.9775</td>\n",
       "      <td>0.9465</td>\n",
       "      <td>0.9855</td>\n",
       "    </tr>\n",
       "    <tr>\n",
       "      <th>23</th>\n",
       "      <td>0.9835</td>\n",
       "      <td>0.9835</td>\n",
       "      <td>0.9810</td>\n",
       "      <td>0.9465</td>\n",
       "      <td>0.9825</td>\n",
       "    </tr>\n",
       "    <tr>\n",
       "      <th>24</th>\n",
       "      <td>0.9850</td>\n",
       "      <td>0.9885</td>\n",
       "      <td>0.9805</td>\n",
       "      <td>0.9455</td>\n",
       "      <td>0.9850</td>\n",
       "    </tr>\n",
       "    <tr>\n",
       "      <th>25</th>\n",
       "      <td>0.9895</td>\n",
       "      <td>0.9855</td>\n",
       "      <td>0.9785</td>\n",
       "      <td>0.9465</td>\n",
       "      <td>0.9855</td>\n",
       "    </tr>\n",
       "    <tr>\n",
       "      <th>26</th>\n",
       "      <td>0.9865</td>\n",
       "      <td>0.9835</td>\n",
       "      <td>0.9795</td>\n",
       "      <td>0.9465</td>\n",
       "      <td>0.9845</td>\n",
       "    </tr>\n",
       "    <tr>\n",
       "      <th>27</th>\n",
       "      <td>0.9870</td>\n",
       "      <td>0.9880</td>\n",
       "      <td>0.9765</td>\n",
       "      <td>0.9465</td>\n",
       "      <td>0.9850</td>\n",
       "    </tr>\n",
       "    <tr>\n",
       "      <th>28</th>\n",
       "      <td>0.9880</td>\n",
       "      <td>0.9880</td>\n",
       "      <td>0.9800</td>\n",
       "      <td>0.9475</td>\n",
       "      <td>0.9850</td>\n",
       "    </tr>\n",
       "    <tr>\n",
       "      <th>29</th>\n",
       "      <td>0.9855</td>\n",
       "      <td>0.9875</td>\n",
       "      <td>0.9795</td>\n",
       "      <td>0.9475</td>\n",
       "      <td>0.9840</td>\n",
       "    </tr>\n",
       "  </tbody>\n",
       "</table>\n",
       "</div>"
      ],
      "text/plain": [
       "      Tree  Random_Forest     Knn  Logistic_Regression     SVM\n",
       "0   0.9880         0.9865  0.9825               0.9470  0.9845\n",
       "1   0.9880         0.9860  0.9805               0.9470  0.9850\n",
       "2   0.9870         0.9865  0.9795               0.9470  0.9850\n",
       "3   0.9870         0.9850  0.9800               0.9465  0.9845\n",
       "4   0.9895         0.9885  0.9790               0.9465  0.9840\n",
       "5   0.9870         0.9855  0.9810               0.9465  0.9835\n",
       "6   0.9890         0.9910  0.9800               0.9465  0.9870\n",
       "7   0.9875         0.9895  0.9815               0.9465  0.9860\n",
       "8   0.9870         0.9865  0.9815               0.9465  0.9850\n",
       "9   0.9885         0.9870  0.9820               0.9485  0.9865\n",
       "10  0.9875         0.9885  0.9805               0.9485  0.9840\n",
       "11  0.9895         0.9855  0.9815               0.9470  0.9855\n",
       "12  0.9865         0.9865  0.9800               0.9470  0.9845\n",
       "13  0.9900         0.9840  0.9820               0.9470  0.9865\n",
       "14  0.9910         0.9870  0.9805               0.9470  0.9850\n",
       "15  0.9900         0.9835  0.9805               0.9470  0.9840\n",
       "16  0.9875         0.9865  0.9790               0.9470  0.9850\n",
       "17  0.9840         0.9875  0.9790               0.9460  0.9835\n",
       "18  0.9880         0.9855  0.9785               0.9470  0.9855\n",
       "19  0.9875         0.9860  0.9810               0.9475  0.9855\n",
       "20  0.9885         0.9865  0.9770               0.9465  0.9845\n",
       "21  0.9885         0.9870  0.9805               0.9465  0.9845\n",
       "22  0.9870         0.9870  0.9775               0.9465  0.9855\n",
       "23  0.9835         0.9835  0.9810               0.9465  0.9825\n",
       "24  0.9850         0.9885  0.9805               0.9455  0.9850\n",
       "25  0.9895         0.9855  0.9785               0.9465  0.9855\n",
       "26  0.9865         0.9835  0.9795               0.9465  0.9845\n",
       "27  0.9870         0.9880  0.9765               0.9465  0.9850\n",
       "28  0.9880         0.9880  0.9800               0.9475  0.9850\n",
       "29  0.9855         0.9875  0.9795               0.9475  0.9840"
      ]
     },
     "execution_count": 32,
     "metadata": {},
     "output_type": "execute_result"
    }
   ],
   "source": [
    "#Criação de um DataFrame com os resultados\n",
    "\n",
    "import pandas as pd\n",
    "\n",
    "resultados = pd.DataFrame({'Tree': resultadosTree, 'Random_Forest': resultadosRandonForest,\n",
    "                            'Knn': resultadosKnn, 'Logistic_Regression': resultadosLogisticRegression,\n",
    "                            'SVM': resultadosSvm})\n",
    "\n",
    "resultados"
   ]
  },
  {
   "cell_type": "code",
   "execution_count": 33,
   "metadata": {},
   "outputs": [
    {
     "data": {
      "text/html": [
       "<div>\n",
       "<style scoped>\n",
       "    .dataframe tbody tr th:only-of-type {\n",
       "        vertical-align: middle;\n",
       "    }\n",
       "\n",
       "    .dataframe tbody tr th {\n",
       "        vertical-align: top;\n",
       "    }\n",
       "\n",
       "    .dataframe thead th {\n",
       "        text-align: right;\n",
       "    }\n",
       "</style>\n",
       "<table border=\"1\" class=\"dataframe\">\n",
       "  <thead>\n",
       "    <tr style=\"text-align: right;\">\n",
       "      <th></th>\n",
       "      <th>Tree</th>\n",
       "      <th>Random_Forest</th>\n",
       "      <th>Knn</th>\n",
       "      <th>Logistic_Regression</th>\n",
       "      <th>SVM</th>\n",
       "    </tr>\n",
       "  </thead>\n",
       "  <tbody>\n",
       "    <tr>\n",
       "      <th>count</th>\n",
       "      <td>30.000000</td>\n",
       "      <td>30.000000</td>\n",
       "      <td>30.000000</td>\n",
       "      <td>30.000000</td>\n",
       "      <td>30.000000</td>\n",
       "    </tr>\n",
       "    <tr>\n",
       "      <th>mean</th>\n",
       "      <td>0.987633</td>\n",
       "      <td>0.986583</td>\n",
       "      <td>0.980017</td>\n",
       "      <td>0.946850</td>\n",
       "      <td>0.984867</td>\n",
       "    </tr>\n",
       "    <tr>\n",
       "      <th>std</th>\n",
       "      <td>0.001707</td>\n",
       "      <td>0.001747</td>\n",
       "      <td>0.001453</td>\n",
       "      <td>0.000618</td>\n",
       "      <td>0.000955</td>\n",
       "    </tr>\n",
       "    <tr>\n",
       "      <th>min</th>\n",
       "      <td>0.983500</td>\n",
       "      <td>0.983500</td>\n",
       "      <td>0.976500</td>\n",
       "      <td>0.945500</td>\n",
       "      <td>0.982500</td>\n",
       "    </tr>\n",
       "    <tr>\n",
       "      <th>25%</th>\n",
       "      <td>0.987000</td>\n",
       "      <td>0.985500</td>\n",
       "      <td>0.979125</td>\n",
       "      <td>0.946500</td>\n",
       "      <td>0.984500</td>\n",
       "    </tr>\n",
       "    <tr>\n",
       "      <th>50%</th>\n",
       "      <td>0.987500</td>\n",
       "      <td>0.986500</td>\n",
       "      <td>0.980250</td>\n",
       "      <td>0.946750</td>\n",
       "      <td>0.985000</td>\n",
       "    </tr>\n",
       "    <tr>\n",
       "      <th>75%</th>\n",
       "      <td>0.988500</td>\n",
       "      <td>0.987500</td>\n",
       "      <td>0.981000</td>\n",
       "      <td>0.947000</td>\n",
       "      <td>0.985500</td>\n",
       "    </tr>\n",
       "    <tr>\n",
       "      <th>max</th>\n",
       "      <td>0.991000</td>\n",
       "      <td>0.991000</td>\n",
       "      <td>0.982500</td>\n",
       "      <td>0.948500</td>\n",
       "      <td>0.987000</td>\n",
       "    </tr>\n",
       "  </tbody>\n",
       "</table>\n",
       "</div>"
      ],
      "text/plain": [
       "            Tree  Random_Forest        Knn  Logistic_Regression        SVM\n",
       "count  30.000000      30.000000  30.000000            30.000000  30.000000\n",
       "mean    0.987633       0.986583   0.980017             0.946850   0.984867\n",
       "std     0.001707       0.001747   0.001453             0.000618   0.000955\n",
       "min     0.983500       0.983500   0.976500             0.945500   0.982500\n",
       "25%     0.987000       0.985500   0.979125             0.946500   0.984500\n",
       "50%     0.987500       0.986500   0.980250             0.946750   0.985000\n",
       "75%     0.988500       0.987500   0.981000             0.947000   0.985500\n",
       "max     0.991000       0.991000   0.982500             0.948500   0.987000"
      ]
     },
     "execution_count": 33,
     "metadata": {},
     "output_type": "execute_result"
    }
   ],
   "source": [
    "resultados.describe()"
   ]
  },
  {
   "cell_type": "code",
   "execution_count": 34,
   "metadata": {},
   "outputs": [
    {
     "data": {
      "text/plain": [
       "Tree                   0.172802\n",
       "Random_Forest          0.177109\n",
       "Knn                    0.148283\n",
       "Logistic_Regression    0.065267\n",
       "SVM                    0.097000\n",
       "dtype: float64"
      ]
     },
     "execution_count": 34,
     "metadata": {},
     "output_type": "execute_result"
    }
   ],
   "source": [
    "#Verificando o coeficiente de variação\n",
    "\n",
    "(resultados.std() / resultados.mean()) * 100"
   ]
  }
 ],
 "metadata": {
  "kernelspec": {
   "display_name": "ML",
   "language": "python",
   "name": "python3"
  },
  "language_info": {
   "codemirror_mode": {
    "name": "ipython",
    "version": 3
   },
   "file_extension": ".py",
   "mimetype": "text/x-python",
   "name": "python",
   "nbconvert_exporter": "python",
   "pygments_lexer": "ipython3",
   "version": "3.9.1 (tags/v3.9.1:1e5d33e, Dec  7 2020, 17:08:21) [MSC v.1927 64 bit (AMD64)]"
  },
  "orig_nbformat": 4,
  "vscode": {
   "interpreter": {
    "hash": "f55f260a693975c2955a3b52cedb65e0d37bfa0d66d90c27450f86ae77a77bb2"
   }
  }
 },
 "nbformat": 4,
 "nbformat_minor": 2
}
